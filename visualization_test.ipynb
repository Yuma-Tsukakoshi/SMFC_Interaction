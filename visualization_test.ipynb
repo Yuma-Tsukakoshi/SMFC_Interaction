{
 "cells": [
  {
   "cell_type": "code",
   "execution_count": 7,
   "metadata": {},
   "outputs": [
    {
     "name": "stdout",
     "output_type": "stream",
     "text": [
      "b'0000000,00191\\r\\n'\n",
      "b'0000000,00191\\r\\n'\n",
      "b'0000000,00191\\r\\n'\n",
      "b'0000000,00191\\r\\n'\n",
      "b'0000000,00191\\r\\n'\n",
      "b'0000000,00191\\r\\n'\n",
      "b'0000000,00191\\r\\n'\n",
      "b'0000000,00191\\r\\n'\n",
      "b'0000000,00191\\r\\n'\n",
      "b'0000000,00191\\r\\n'\n",
      "b'0000000,00191\\r\\n'\n",
      "b'0000000,00191\\r\\n'\n",
      "b'0000000,00191\\r\\n'\n",
      "b'0000000,00191\\r\\n'\n",
      "b'0000000,00191\\r\\n'\n",
      "b'0000000,00191\\r\\n'\n",
      "b'0000000,00191\\r\\n'\n",
      "b'0000000,00191\\r\\n'\n"
     ]
    },
    {
     "ename": "KeyboardInterrupt",
     "evalue": "",
     "output_type": "error",
     "traceback": [
      "\u001b[0;31m---------------------------------------------------------------------------\u001b[0m",
      "\u001b[0;31mKeyboardInterrupt\u001b[0m                         Traceback (most recent call last)",
      "Cell \u001b[0;32mIn[7], line 13\u001b[0m\n\u001b[1;32m     11\u001b[0m \u001b[38;5;28;01mwhile\u001b[39;00m \u001b[38;5;28;01mTrue\u001b[39;00m:\n\u001b[1;32m     12\u001b[0m     \u001b[38;5;28mprint\u001b[39m(data)\n\u001b[0;32m---> 13\u001b[0m     \u001b[43mtime\u001b[49m\u001b[38;5;241;43m.\u001b[39;49m\u001b[43msleep\u001b[49m\u001b[43m(\u001b[49m\u001b[38;5;241;43m1\u001b[39;49m\u001b[43m)\u001b[49m\n",
      "\u001b[0;31mKeyboardInterrupt\u001b[0m: "
     ]
    }
   ],
   "source": [
    "import serial\n",
    "import time\n",
    "import pythreejs as p3js\n",
    "from IPython.display import display\n",
    "from threading import Thread\n",
    "\n",
    "# 设置串口连接\n",
    "ser = serial.Serial('/dev/tty.usbserial-14410', 38400)\n",
    "data = str(ser.read(15))\n",
    "\n",
    "while True:\n",
    "    print(data)\n",
    "    time.sleep(1)\n"
   ]
  },
  {
   "cell_type": "code",
   "execution_count": null,
   "metadata": {},
   "outputs": [],
   "source": []
  }
 ],
 "metadata": {
  "kernelspec": {
   "display_name": "Python 3",
   "language": "python",
   "name": "python3"
  },
  "language_info": {
   "codemirror_mode": {
    "name": "ipython",
    "version": 3
   },
   "file_extension": ".py",
   "mimetype": "text/x-python",
   "name": "python",
   "nbconvert_exporter": "python",
   "pygments_lexer": "ipython3",
   "version": "3.9.6"
  }
 },
 "nbformat": 4,
 "nbformat_minor": 2
}
